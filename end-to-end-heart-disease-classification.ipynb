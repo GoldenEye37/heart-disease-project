{
 "cells": [
  {
   "cell_type": "markdown",
   "id": "38cf2cc1-87a6-4445-a21b-3a49db656aad",
   "metadata": {},
   "source": [
    "# Predicting heart disease using machine learning\n",
    "\n",
    "This notebook looks into using various Python based machine learning and data science libraries in an an attempt to build a machine learning model capable of predicitng whether someone has heart disease or not based on their medical attributes.\n",
    "\n",
    "We're going to take the following approach:\n",
    "1. Problem definition\n",
    "2. Data\n",
    "3. Evaluate\n",
    "4. Features\n",
    "5. Modelling\n",
    "6. Experimentation\n",
    "\n",
    "## 1. Problem Definition\n",
    "In a statement, \n",
    "> Given clinical parameters about a patient, can we predict whether or not they have heart disease?\n",
    "\n",
    "## 2. Data\n",
    "\n",
    "The original data came from the Cleveland data from UCI Machine Learning Repository. \n",
    "\n",
    "There is also a version of it available on Kaggle.\n",
    "\n",
    "## 3. Evaluation \n",
    "> If we can reach 95% accuracy at prediciting whether or not a patient has heart disease during the proof of concept, we'll purse the project.\n",
    "\n",
    "## 4. Features\n",
    "\n",
    "This is where you get information about each of the features in your data.\n",
    "\n",
    "**create data dictionary**\n"
   ]
  },
  {
   "cell_type": "markdown",
   "id": "4ffee8b3-5663-4ff1-83d7-a514d2da1618",
   "metadata": {},
   "source": [
    "## Preparing the tools\n",
    "\n",
    "We're going to use, pandas, matplotlib and NumPy for data analysis and manipulation."
   ]
  },
  {
   "cell_type": "code",
   "execution_count": 4,
   "id": "da6c8fb7-1de8-467c-abe4-c875de4e8344",
   "metadata": {},
   "outputs": [],
   "source": [
    "# import all the tools we need\n",
    "\n",
    "# Regular EDA(exploratory data analysis) and plotting libraries\n",
    "\n",
    "import numpy as np\n",
    "import pandas as pd\n",
    "import matplotlib.pyplot as plt\n",
    "import seaborn as sos\n",
    "\n",
    "# we want plots to appear inside the notebook\n",
    "%matplotlib inline\n",
    "\n",
    "# Models from sklearn\n",
    "from sklearn.linear_model import LogisticRegression\n",
    "from sklearn.neighbors import KNeighborsClassifier\n",
    "from sklearn.ensemble import RandomForestClassifier\n",
    "\n",
    "# Model evaluations\n",
    "from sklearn.model_selection import train_test_split, cross_val_score\n",
    "from sklearn.model_selection import RandomizedSearchCV, GridSearchCV\n",
    "from sklearn.metrics import confusion_matrix, classification_report\n",
    "from sklearn.metrics import precision_score, recall_score, f1_score\n",
    "# from sklearn.metrics import plot_roc_curve"
   ]
  },
  {
   "cell_type": "markdown",
   "id": "5356cd4c-a51d-4602-92f0-74305a827fbe",
   "metadata": {},
   "source": [
    "# Load data"
   ]
  },
  {
   "cell_type": "code",
   "execution_count": 6,
   "id": "e847b7d1-2b9e-4350-b99b-ab6cc7a37381",
   "metadata": {},
   "outputs": [
    {
     "data": {
      "text/plain": [
       "(303, 14)"
      ]
     },
     "execution_count": 6,
     "metadata": {},
     "output_type": "execute_result"
    }
   ],
   "source": [
    "df = pd.read_csv(\"heart-disease.csv\")\n",
    "df.shape # rows and cols"
   ]
  },
  {
   "cell_type": "markdown",
   "id": "2e73a5b1-42f8-4f71-94d2-ae89ee4ff67d",
   "metadata": {},
   "source": [
    "## Data Exploration (exploratory data analysis or EDA)\n",
    "\n",
    "The goal here is to find out more about the data and become a subject matter export on the dataset you're working with.\n",
    "\n",
    "1. What question(s) are you trying to solve?\n",
    "2. What kind of data do we have and how do we treat different types?\n",
    "3. What's missing from the data and how do you deal with it?\n",
    "4. Where are the outliers and why do you care about them?\n",
    "5. How can you"
   ]
  }
 ],
 "metadata": {
  "kernelspec": {
   "display_name": "Python 3 (ipykernel)",
   "language": "python",
   "name": "python3"
  },
  "language_info": {
   "codemirror_mode": {
    "name": "ipython",
    "version": 3
   },
   "file_extension": ".py",
   "mimetype": "text/x-python",
   "name": "python",
   "nbconvert_exporter": "python",
   "pygments_lexer": "ipython3",
   "version": "3.11.5"
  }
 },
 "nbformat": 4,
 "nbformat_minor": 5
}
